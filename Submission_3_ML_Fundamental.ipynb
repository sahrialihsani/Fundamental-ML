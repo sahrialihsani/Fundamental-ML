{
  "nbformat": 4,
  "nbformat_minor": 0,
  "metadata": {
    "colab": {
      "name": "Submission_3_ML_Fundamental.ipynb",
      "provenance": [],
      "collapsed_sections": [],
      "toc_visible": true
    },
    "kernelspec": {
      "name": "python3",
      "display_name": "Python 3"
    },
    "language_info": {
      "name": "python"
    },
    "accelerator": "GPU"
  },
  "cells": [
    {
      "cell_type": "markdown",
      "metadata": {
        "id": "rbeqeK-zCy35"
      },
      "source": [
        "# Data Diri"
      ]
    },
    {
      "cell_type": "markdown",
      "metadata": {
        "id": "eOp09N68C1yR"
      },
      "source": [
        "Nama: Sahrial Ihsani Ishak\n",
        "\n",
        "Asal: Bengkulu"
      ]
    },
    {
      "cell_type": "markdown",
      "metadata": {
        "id": "xpZ7sQxdEf-6"
      },
      "source": [
        "# Code\n",
        "\n"
      ]
    },
    {
      "cell_type": "markdown",
      "metadata": {
        "id": "zleBfNGIEk58"
      },
      "source": [
        "Dataset: https://www.kaggle.com/jonathanoheix/face-expression-recognition-datasetinsects-recognition\n",
        "\n",
        "Face expression Recognition with CNN"
      ]
    },
    {
      "cell_type": "code",
      "metadata": {
        "id": "6RRcACybCcDp"
      },
      "source": [
        "!pip install -U -q kaggle\n",
        "!mkdir -p ~/.kaggle"
      ],
      "execution_count": 1,
      "outputs": []
    },
    {
      "cell_type": "code",
      "metadata": {
        "colab": {
          "resources": {
            "http://localhost:8080/nbextensions/google.colab/files.js": {
              "data": "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",
              "ok": true,
              "headers": [
                [
                  "content-type",
                  "application/javascript"
                ]
              ],
              "status": 200,
              "status_text": ""
            }
          },
          "base_uri": "https://localhost:8080/",
          "height": 89
        },
        "id": "VZ-935RaEfPX",
        "outputId": "1d15dfc4-146c-448f-a683-aff5bc93065c"
      },
      "source": [
        "from google.colab import files\n",
        "files.upload()"
      ],
      "execution_count": 2,
      "outputs": [
        {
          "output_type": "display_data",
          "data": {
            "text/html": [
              "\n",
              "     <input type=\"file\" id=\"files-9a8c69f3-c4b5-418b-9a5f-0f4651bba8b4\" name=\"files[]\" multiple disabled\n",
              "        style=\"border:none\" />\n",
              "     <output id=\"result-9a8c69f3-c4b5-418b-9a5f-0f4651bba8b4\">\n",
              "      Upload widget is only available when the cell has been executed in the\n",
              "      current browser session. Please rerun this cell to enable.\n",
              "      </output>\n",
              "      <script src=\"/nbextensions/google.colab/files.js\"></script> "
            ],
            "text/plain": [
              "<IPython.core.display.HTML object>"
            ]
          },
          "metadata": {
            "tags": []
          }
        },
        {
          "output_type": "stream",
          "text": [
            "Saving kaggle.json to kaggle.json\n"
          ],
          "name": "stdout"
        },
        {
          "output_type": "execute_result",
          "data": {
            "text/plain": [
              "{'kaggle.json': b'{\"username\":\"sahrialihsaniishak\",\"key\":\"1cd8c1d5abed5608434908e6b1d8d093\"}'}"
            ]
          },
          "metadata": {
            "tags": []
          },
          "execution_count": 2
        }
      ]
    },
    {
      "cell_type": "code",
      "metadata": {
        "id": "Gf8tP_qaE7-i"
      },
      "source": [
        "!cp kaggle.json ~/.kaggle/"
      ],
      "execution_count": 3,
      "outputs": []
    },
    {
      "cell_type": "code",
      "metadata": {
        "colab": {
          "base_uri": "https://localhost:8080/"
        },
        "id": "l5a8vhv_FAlm",
        "outputId": "94221e0c-cce6-4450-e46e-a22dd18a7dd4"
      },
      "source": [
        "!kaggle datasets download -d jonathanoheix/face-expression-recognition-dataset\n",
        "!ls"
      ],
      "execution_count": 4,
      "outputs": [
        {
          "output_type": "stream",
          "text": [
            "Warning: Your Kaggle API key is readable by other users on this system! To fix this, you can run 'chmod 600 /root/.kaggle/kaggle.json'\n",
            "Downloading face-expression-recognition-dataset.zip to /content\n",
            " 85% 103M/121M [00:00<00:00, 252MB/s] \n",
            "100% 121M/121M [00:00<00:00, 223MB/s]\n",
            "face-expression-recognition-dataset.zip  kaggle.json  sample_data\n"
          ],
          "name": "stdout"
        }
      ]
    },
    {
      "cell_type": "code",
      "metadata": {
        "id": "0y54llfmG0AZ"
      },
      "source": [
        "#Import Library\n",
        "import zipfile\n",
        "import os\n",
        "import shutil\n",
        "from sklearn.model_selection import train_test_split \n",
        "from keras.preprocessing.image import ImageDataGenerator\n",
        "import tensorflow as tf\n",
        "import numpy as np\n",
        "from google.colab import files\n",
        "from keras.preprocessing import image\n",
        "import matplotlib.pyplot as plt\n",
        "import matplotlib.image as mpimg\n",
        "from keras.layers import Dense,Input,Dropout,Flatten,Conv2D,MaxPooling2D\n",
        "from keras.models import Model,Sequential\n",
        "from keras.optimizers import Adam"
      ],
      "execution_count": 5,
      "outputs": []
    },
    {
      "cell_type": "code",
      "metadata": {
        "id": "qJogToO1GKSV"
      },
      "source": [
        "# Ekstraksi pada file zip sebelumnya\n",
        "local_zip = '/content/face-expression-recognition-dataset.zip'\n",
        "zip_ref = zipfile.ZipFile(local_zip, 'r')\n",
        "zip_ref.extractall('/content')\n",
        "zip_ref.close()"
      ],
      "execution_count": 6,
      "outputs": []
    },
    {
      "cell_type": "code",
      "metadata": {
        "colab": {
          "base_uri": "https://localhost:8080/"
        },
        "id": "nB8HE4zxHOdw",
        "outputId": "ebf1fdc1-9e4e-4f30-a1ca-b48d477c4758"
      },
      "source": [
        "train_folder= '/content/images/train'\n",
        "os.listdir(train_folder)"
      ],
      "execution_count": 7,
      "outputs": [
        {
          "output_type": "execute_result",
          "data": {
            "text/plain": [
              "['neutral', 'surprise', 'fear', 'disgust', 'angry', 'happy', 'sad']"
            ]
          },
          "metadata": {
            "tags": []
          },
          "execution_count": 7
        }
      ]
    },
    {
      "cell_type": "code",
      "metadata": {
        "colab": {
          "base_uri": "https://localhost:8080/"
        },
        "id": "mbAm-E04KWAL",
        "outputId": "e5940a56-81e0-4e52-c7a3-26f722276719"
      },
      "source": [
        "validation_folder= '/content/images/validation'\n",
        "os.listdir(validation_folder)"
      ],
      "execution_count": 8,
      "outputs": [
        {
          "output_type": "execute_result",
          "data": {
            "text/plain": [
              "['neutral', 'surprise', 'fear', 'disgust', 'angry', 'happy', 'sad']"
            ]
          },
          "metadata": {
            "tags": []
          },
          "execution_count": 8
        }
      ]
    },
    {
      "cell_type": "code",
      "metadata": {
        "id": "Z1awlz9lK9RT"
      },
      "source": [
        "#Augmentasi and generate images\n",
        "train_datagen = ImageDataGenerator(\n",
        "                    rescale=1./255,\n",
        "                    rotation_range=20,\n",
        "                    horizontal_flip=True,\n",
        "                    vertical_flip=True,\n",
        "                    shear_range = 0.2,\n",
        "                    fill_mode = 'nearest')\n",
        " \n",
        "test_datagen = ImageDataGenerator(\n",
        "                    rescale=1./255,\n",
        "                    rotation_range=20,\n",
        "                    horizontal_flip=True,\n",
        "                    vertical_flip=True,\n",
        "                    shear_range = 0.2,\n",
        "                    fill_mode = 'nearest')"
      ],
      "execution_count": 9,
      "outputs": []
    },
    {
      "cell_type": "code",
      "metadata": {
        "colab": {
          "base_uri": "https://localhost:8080/"
        },
        "id": "4pLWtFQbKdPN",
        "outputId": "1977643b-d49b-406b-a33d-1dc7e5cbe5d0"
      },
      "source": [
        "#Preprocessing data with generator\n",
        "train_generator = train_datagen.flow_from_directory(\n",
        "        train_folder,  \n",
        "        target_size=(48, 48), \n",
        "        batch_size=64,\n",
        "        color_mode='grayscale',\n",
        "        class_mode='categorical',\n",
        "        shuffle=True)\n",
        "validation_generator = test_datagen.flow_from_directory(\n",
        "        validation_folder, \n",
        "        target_size=(48, 48),  \n",
        "        batch_size=64, \n",
        "        color_mode='grayscale',\n",
        "        class_mode='categorical',\n",
        "        shuffle=False)"
      ],
      "execution_count": 10,
      "outputs": [
        {
          "output_type": "stream",
          "text": [
            "Found 28821 images belonging to 7 classes.\n",
            "Found 7066 images belonging to 7 classes.\n"
          ],
          "name": "stdout"
        }
      ]
    },
    {
      "cell_type": "code",
      "metadata": {
        "id": "v401b_9XLAlQ"
      },
      "source": [
        "#CNN Architecture Model sequentials (Maxpooling and convolutional layer), flatten to make single array\n",
        "\n",
        "model = tf.keras.models.Sequential([\n",
        "    #Layer1\n",
        "    tf.keras.layers.Conv2D(64, (3,3), activation='relu',kernel_initializer='he_uniform', padding='same',input_shape=(48, 48, 1)),\n",
        "    tf.keras.layers.MaxPooling2D(2, 2),\n",
        "    #Layer2\n",
        "    tf.keras.layers.Conv2D(128, (3,3), activation='relu',kernel_initializer='he_uniform', padding='same'),\n",
        "    tf.keras.layers.MaxPooling2D(2,2),\n",
        "    #Layer3\n",
        "    tf.keras.layers.Conv2D(256, (3,3), activation='relu',kernel_initializer='he_uniform', padding='same'),\n",
        "    tf.keras.layers.MaxPooling2D(2,2),\n",
        "    #Layer4\n",
        "    tf.keras.layers.Conv2D(512, (3,3), activation='relu',kernel_initializer='he_uniform', padding='same'),\n",
        "    tf.keras.layers.MaxPooling2D(2,2),\n",
        "    #Flatten\n",
        "    tf.keras.layers.Flatten(),\n",
        "    tf.keras.layers.Dropout(0.5),\n",
        "    #Fully Connected Layer\n",
        "    tf.keras.layers.Dense(1024, activation='relu',kernel_initializer='he_uniform'),\n",
        "    tf.keras.layers.Dense(7, activation='softmax')\n",
        "])\n"
      ],
      "execution_count": 11,
      "outputs": []
    },
    {
      "cell_type": "code",
      "metadata": {
        "id": "YV2WYqHrM2es"
      },
      "source": [
        "#Optimizer with adam\n",
        "model.compile(loss='categorical_crossentropy',\n",
        "              optimizer=tf.optimizers.Adam(learning_rate=1.0000e-04),\n",
        "              metrics=['accuracy'])"
      ],
      "execution_count": 12,
      "outputs": []
    },
    {
      "cell_type": "code",
      "metadata": {
        "id": "kZR8jlZlNOms"
      },
      "source": [
        "#Callback untuk mencegah overfitting dengan menghentikan training, apabila telah terpenuhi\n",
        "class reduceOverfitting(tf.keras.callbacks.Callback):\n",
        "  def on_epoch_end(self, epoch, logs={}):\n",
        "    if(logs.get('accuracy') > 0.98):\n",
        "      print(\"\\nStopped! Akurasi sudah mencapai 98%\")\n",
        "      self.model.stop_training = True\n",
        "stop = reduceOverfitting()"
      ],
      "execution_count": 13,
      "outputs": []
    },
    {
      "cell_type": "code",
      "metadata": {
        "colab": {
          "base_uri": "https://localhost:8080/"
        },
        "id": "PTGeRmNqNt-d",
        "outputId": "80de70ee-8923-498e-ab80-4a1def4ba67f"
      },
      "source": [
        "#see the model summary\n",
        "model.summary()"
      ],
      "execution_count": 14,
      "outputs": [
        {
          "output_type": "stream",
          "text": [
            "Model: \"sequential\"\n",
            "_________________________________________________________________\n",
            "Layer (type)                 Output Shape              Param #   \n",
            "=================================================================\n",
            "conv2d (Conv2D)              (None, 48, 48, 64)        640       \n",
            "_________________________________________________________________\n",
            "max_pooling2d (MaxPooling2D) (None, 24, 24, 64)        0         \n",
            "_________________________________________________________________\n",
            "conv2d_1 (Conv2D)            (None, 24, 24, 128)       73856     \n",
            "_________________________________________________________________\n",
            "max_pooling2d_1 (MaxPooling2 (None, 12, 12, 128)       0         \n",
            "_________________________________________________________________\n",
            "conv2d_2 (Conv2D)            (None, 12, 12, 256)       295168    \n",
            "_________________________________________________________________\n",
            "max_pooling2d_2 (MaxPooling2 (None, 6, 6, 256)         0         \n",
            "_________________________________________________________________\n",
            "conv2d_3 (Conv2D)            (None, 6, 6, 512)         1180160   \n",
            "_________________________________________________________________\n",
            "max_pooling2d_3 (MaxPooling2 (None, 3, 3, 512)         0         \n",
            "_________________________________________________________________\n",
            "flatten (Flatten)            (None, 4608)              0         \n",
            "_________________________________________________________________\n",
            "dropout (Dropout)            (None, 4608)              0         \n",
            "_________________________________________________________________\n",
            "dense (Dense)                (None, 1024)              4719616   \n",
            "_________________________________________________________________\n",
            "dense_1 (Dense)              (None, 7)                 7175      \n",
            "=================================================================\n",
            "Total params: 6,276,615\n",
            "Trainable params: 6,276,615\n",
            "Non-trainable params: 0\n",
            "_________________________________________________________________\n"
          ],
          "name": "stdout"
        }
      ]
    },
    {
      "cell_type": "code",
      "metadata": {
        "colab": {
          "base_uri": "https://localhost:8080/"
        },
        "id": "EJ4IVWFbOHMB",
        "outputId": "8f5d03ee-bd93-4466-afd5-0dbff1148011"
      },
      "source": [
        "#train our model with callback to reduce overfitting \n",
        "trainmodel = model.fit(\n",
        "    train_generator,\n",
        "    steps_per_epoch = 451, \n",
        "    epochs = 200,\n",
        "    validation_data = validation_generator,\n",
        "    validation_steps = 110, \n",
        "    verbose =2,       \n",
        "      callbacks=[stop] \n",
        ")"
      ],
      "execution_count": 15,
      "outputs": [
        {
          "output_type": "stream",
          "text": [
            "Epoch 1/200\n",
            "451/451 - 50s - loss: 1.8230 - accuracy: 0.2460 - val_loss: 1.7610 - val_accuracy: 0.2866\n",
            "Epoch 2/200\n",
            "451/451 - 18s - loss: 1.7567 - accuracy: 0.2823 - val_loss: 1.7011 - val_accuracy: 0.3247\n",
            "Epoch 3/200\n",
            "451/451 - 18s - loss: 1.6942 - accuracy: 0.3223 - val_loss: 1.6661 - val_accuracy: 0.3455\n",
            "Epoch 4/200\n",
            "451/451 - 18s - loss: 1.6316 - accuracy: 0.3591 - val_loss: 1.5539 - val_accuracy: 0.4024\n",
            "Epoch 5/200\n",
            "451/451 - 18s - loss: 1.5724 - accuracy: 0.3883 - val_loss: 1.5263 - val_accuracy: 0.4216\n",
            "Epoch 6/200\n",
            "451/451 - 18s - loss: 1.5241 - accuracy: 0.4125 - val_loss: 1.4730 - val_accuracy: 0.4277\n",
            "Epoch 7/200\n",
            "451/451 - 18s - loss: 1.4844 - accuracy: 0.4291 - val_loss: 1.4249 - val_accuracy: 0.4626\n",
            "Epoch 8/200\n",
            "451/451 - 18s - loss: 1.4581 - accuracy: 0.4409 - val_loss: 1.4215 - val_accuracy: 0.4638\n",
            "Epoch 9/200\n",
            "451/451 - 18s - loss: 1.4248 - accuracy: 0.4554 - val_loss: 1.3792 - val_accuracy: 0.4729\n",
            "Epoch 10/200\n",
            "451/451 - 18s - loss: 1.3964 - accuracy: 0.4654 - val_loss: 1.3482 - val_accuracy: 0.4839\n",
            "Epoch 11/200\n",
            "451/451 - 18s - loss: 1.3716 - accuracy: 0.4746 - val_loss: 1.3119 - val_accuracy: 0.5060\n",
            "Epoch 12/200\n",
            "451/451 - 18s - loss: 1.3491 - accuracy: 0.4836 - val_loss: 1.3248 - val_accuracy: 0.5031\n",
            "Epoch 13/200\n",
            "451/451 - 18s - loss: 1.3299 - accuracy: 0.4920 - val_loss: 1.3124 - val_accuracy: 0.4984\n",
            "Epoch 14/200\n",
            "451/451 - 18s - loss: 1.3143 - accuracy: 0.4995 - val_loss: 1.2790 - val_accuracy: 0.5077\n",
            "Epoch 15/200\n",
            "451/451 - 18s - loss: 1.2929 - accuracy: 0.5049 - val_loss: 1.2573 - val_accuracy: 0.5247\n",
            "Epoch 16/200\n",
            "451/451 - 18s - loss: 1.2824 - accuracy: 0.5118 - val_loss: 1.2467 - val_accuracy: 0.5247\n",
            "Epoch 17/200\n",
            "451/451 - 18s - loss: 1.2665 - accuracy: 0.5152 - val_loss: 1.2421 - val_accuracy: 0.5305\n",
            "Epoch 18/200\n",
            "451/451 - 18s - loss: 1.2504 - accuracy: 0.5251 - val_loss: 1.2333 - val_accuracy: 0.5290\n",
            "Epoch 19/200\n",
            "451/451 - 18s - loss: 1.2400 - accuracy: 0.5278 - val_loss: 1.2231 - val_accuracy: 0.5341\n",
            "Epoch 20/200\n",
            "451/451 - 18s - loss: 1.2290 - accuracy: 0.5338 - val_loss: 1.2124 - val_accuracy: 0.5378\n",
            "Epoch 21/200\n",
            "451/451 - 18s - loss: 1.2138 - accuracy: 0.5413 - val_loss: 1.2024 - val_accuracy: 0.5482\n",
            "Epoch 22/200\n",
            "451/451 - 18s - loss: 1.1968 - accuracy: 0.5480 - val_loss: 1.1850 - val_accuracy: 0.5551\n",
            "Epoch 23/200\n",
            "451/451 - 18s - loss: 1.1899 - accuracy: 0.5477 - val_loss: 1.1850 - val_accuracy: 0.5470\n",
            "Epoch 24/200\n",
            "451/451 - 18s - loss: 1.1806 - accuracy: 0.5528 - val_loss: 1.1719 - val_accuracy: 0.5524\n",
            "Epoch 25/200\n",
            "451/451 - 18s - loss: 1.1712 - accuracy: 0.5536 - val_loss: 1.1590 - val_accuracy: 0.5574\n",
            "Epoch 26/200\n",
            "451/451 - 18s - loss: 1.1603 - accuracy: 0.5599 - val_loss: 1.1632 - val_accuracy: 0.5607\n",
            "Epoch 27/200\n",
            "451/451 - 18s - loss: 1.1576 - accuracy: 0.5615 - val_loss: 1.1643 - val_accuracy: 0.5612\n",
            "Epoch 28/200\n",
            "451/451 - 18s - loss: 1.1409 - accuracy: 0.5688 - val_loss: 1.1439 - val_accuracy: 0.5673\n",
            "Epoch 29/200\n",
            "451/451 - 18s - loss: 1.1353 - accuracy: 0.5677 - val_loss: 1.1414 - val_accuracy: 0.5678\n",
            "Epoch 30/200\n",
            "451/451 - 18s - loss: 1.1229 - accuracy: 0.5719 - val_loss: 1.1339 - val_accuracy: 0.5722\n",
            "Epoch 31/200\n",
            "451/451 - 18s - loss: 1.1159 - accuracy: 0.5787 - val_loss: 1.1378 - val_accuracy: 0.5686\n",
            "Epoch 32/200\n",
            "451/451 - 18s - loss: 1.1087 - accuracy: 0.5797 - val_loss: 1.1279 - val_accuracy: 0.5670\n",
            "Epoch 33/200\n",
            "451/451 - 18s - loss: 1.1042 - accuracy: 0.5821 - val_loss: 1.1202 - val_accuracy: 0.5814\n",
            "Epoch 34/200\n",
            "451/451 - 18s - loss: 1.0955 - accuracy: 0.5814 - val_loss: 1.1118 - val_accuracy: 0.5822\n",
            "Epoch 35/200\n",
            "451/451 - 18s - loss: 1.0830 - accuracy: 0.5899 - val_loss: 1.1194 - val_accuracy: 0.5746\n",
            "Epoch 36/200\n",
            "451/451 - 18s - loss: 1.0794 - accuracy: 0.5909 - val_loss: 1.1161 - val_accuracy: 0.5805\n",
            "Epoch 37/200\n",
            "451/451 - 18s - loss: 1.0733 - accuracy: 0.5937 - val_loss: 1.1217 - val_accuracy: 0.5797\n",
            "Epoch 38/200\n",
            "451/451 - 18s - loss: 1.0696 - accuracy: 0.5962 - val_loss: 1.1116 - val_accuracy: 0.5759\n",
            "Epoch 39/200\n",
            "451/451 - 18s - loss: 1.0611 - accuracy: 0.5957 - val_loss: 1.0953 - val_accuracy: 0.5903\n",
            "Epoch 40/200\n",
            "451/451 - 18s - loss: 1.0489 - accuracy: 0.6023 - val_loss: 1.0897 - val_accuracy: 0.5913\n",
            "Epoch 41/200\n",
            "451/451 - 18s - loss: 1.0447 - accuracy: 0.6054 - val_loss: 1.0912 - val_accuracy: 0.5879\n",
            "Epoch 42/200\n",
            "451/451 - 18s - loss: 1.0371 - accuracy: 0.6086 - val_loss: 1.0774 - val_accuracy: 0.5942\n",
            "Epoch 43/200\n",
            "451/451 - 18s - loss: 1.0286 - accuracy: 0.6116 - val_loss: 1.0881 - val_accuracy: 0.5886\n",
            "Epoch 44/200\n",
            "451/451 - 18s - loss: 1.0253 - accuracy: 0.6133 - val_loss: 1.0978 - val_accuracy: 0.5862\n",
            "Epoch 45/200\n",
            "451/451 - 18s - loss: 1.0211 - accuracy: 0.6158 - val_loss: 1.1046 - val_accuracy: 0.5808\n",
            "Epoch 46/200\n",
            "451/451 - 18s - loss: 1.0146 - accuracy: 0.6183 - val_loss: 1.0909 - val_accuracy: 0.5930\n",
            "Epoch 47/200\n",
            "451/451 - 18s - loss: 1.0014 - accuracy: 0.6222 - val_loss: 1.0749 - val_accuracy: 0.6011\n",
            "Epoch 48/200\n",
            "451/451 - 18s - loss: 0.9999 - accuracy: 0.6234 - val_loss: 1.0676 - val_accuracy: 0.6050\n",
            "Epoch 49/200\n",
            "451/451 - 18s - loss: 0.9932 - accuracy: 0.6265 - val_loss: 1.0606 - val_accuracy: 0.6061\n",
            "Epoch 50/200\n",
            "451/451 - 18s - loss: 0.9888 - accuracy: 0.6265 - val_loss: 1.0650 - val_accuracy: 0.6040\n",
            "Epoch 51/200\n",
            "451/451 - 18s - loss: 0.9865 - accuracy: 0.6279 - val_loss: 1.0700 - val_accuracy: 0.6085\n",
            "Epoch 52/200\n",
            "451/451 - 18s - loss: 0.9777 - accuracy: 0.6353 - val_loss: 1.0714 - val_accuracy: 0.6057\n",
            "Epoch 53/200\n",
            "451/451 - 18s - loss: 0.9715 - accuracy: 0.6345 - val_loss: 1.0582 - val_accuracy: 0.6045\n",
            "Epoch 54/200\n",
            "451/451 - 18s - loss: 0.9645 - accuracy: 0.6375 - val_loss: 1.0521 - val_accuracy: 0.6080\n",
            "Epoch 55/200\n",
            "451/451 - 18s - loss: 0.9592 - accuracy: 0.6407 - val_loss: 1.0629 - val_accuracy: 0.6077\n",
            "Epoch 56/200\n",
            "451/451 - 18s - loss: 0.9525 - accuracy: 0.6398 - val_loss: 1.0553 - val_accuracy: 0.6036\n",
            "Epoch 57/200\n",
            "451/451 - 18s - loss: 0.9503 - accuracy: 0.6422 - val_loss: 1.0595 - val_accuracy: 0.6062\n",
            "Epoch 58/200\n",
            "451/451 - 18s - loss: 0.9513 - accuracy: 0.6428 - val_loss: 1.0523 - val_accuracy: 0.6057\n",
            "Epoch 59/200\n",
            "451/451 - 18s - loss: 0.9373 - accuracy: 0.6482 - val_loss: 1.0443 - val_accuracy: 0.6118\n",
            "Epoch 60/200\n",
            "451/451 - 18s - loss: 0.9317 - accuracy: 0.6508 - val_loss: 1.0543 - val_accuracy: 0.6048\n",
            "Epoch 61/200\n",
            "451/451 - 18s - loss: 0.9281 - accuracy: 0.6519 - val_loss: 1.0591 - val_accuracy: 0.6064\n",
            "Epoch 62/200\n",
            "451/451 - 18s - loss: 0.9222 - accuracy: 0.6572 - val_loss: 1.0445 - val_accuracy: 0.6107\n",
            "Epoch 63/200\n",
            "451/451 - 18s - loss: 0.9117 - accuracy: 0.6599 - val_loss: 1.0523 - val_accuracy: 0.6116\n",
            "Epoch 64/200\n",
            "451/451 - 18s - loss: 0.9130 - accuracy: 0.6587 - val_loss: 1.0462 - val_accuracy: 0.6135\n",
            "Epoch 65/200\n",
            "451/451 - 18s - loss: 0.9070 - accuracy: 0.6604 - val_loss: 1.0399 - val_accuracy: 0.6099\n",
            "Epoch 66/200\n",
            "451/451 - 18s - loss: 0.8999 - accuracy: 0.6616 - val_loss: 1.0387 - val_accuracy: 0.6065\n",
            "Epoch 67/200\n",
            "451/451 - 18s - loss: 0.8941 - accuracy: 0.6639 - val_loss: 1.0400 - val_accuracy: 0.6145\n",
            "Epoch 68/200\n",
            "451/451 - 18s - loss: 0.8882 - accuracy: 0.6703 - val_loss: 1.0478 - val_accuracy: 0.6075\n",
            "Epoch 69/200\n",
            "451/451 - 18s - loss: 0.8834 - accuracy: 0.6708 - val_loss: 1.0351 - val_accuracy: 0.6192\n",
            "Epoch 70/200\n",
            "451/451 - 18s - loss: 0.8764 - accuracy: 0.6728 - val_loss: 1.0379 - val_accuracy: 0.6213\n",
            "Epoch 71/200\n",
            "451/451 - 18s - loss: 0.8728 - accuracy: 0.6719 - val_loss: 1.0352 - val_accuracy: 0.6178\n",
            "Epoch 72/200\n",
            "451/451 - 18s - loss: 0.8652 - accuracy: 0.6772 - val_loss: 1.0430 - val_accuracy: 0.6202\n",
            "Epoch 73/200\n",
            "451/451 - 18s - loss: 0.8635 - accuracy: 0.6783 - val_loss: 1.0419 - val_accuracy: 0.6138\n",
            "Epoch 74/200\n",
            "451/451 - 18s - loss: 0.8556 - accuracy: 0.6783 - val_loss: 1.0383 - val_accuracy: 0.6146\n",
            "Epoch 75/200\n",
            "451/451 - 18s - loss: 0.8526 - accuracy: 0.6790 - val_loss: 1.0435 - val_accuracy: 0.6205\n",
            "Epoch 76/200\n",
            "451/451 - 18s - loss: 0.8541 - accuracy: 0.6849 - val_loss: 1.0288 - val_accuracy: 0.6236\n",
            "Epoch 77/200\n",
            "451/451 - 18s - loss: 0.8433 - accuracy: 0.6856 - val_loss: 1.0413 - val_accuracy: 0.6155\n",
            "Epoch 78/200\n",
            "451/451 - 18s - loss: 0.8430 - accuracy: 0.6849 - val_loss: 1.0361 - val_accuracy: 0.6232\n",
            "Epoch 79/200\n",
            "451/451 - 18s - loss: 0.8362 - accuracy: 0.6879 - val_loss: 1.0400 - val_accuracy: 0.6142\n",
            "Epoch 80/200\n",
            "451/451 - 18s - loss: 0.8246 - accuracy: 0.6951 - val_loss: 1.0314 - val_accuracy: 0.6229\n",
            "Epoch 81/200\n",
            "451/451 - 18s - loss: 0.8227 - accuracy: 0.6924 - val_loss: 1.0296 - val_accuracy: 0.6216\n",
            "Epoch 82/200\n",
            "451/451 - 18s - loss: 0.8187 - accuracy: 0.6933 - val_loss: 1.0431 - val_accuracy: 0.6203\n",
            "Epoch 83/200\n",
            "451/451 - 18s - loss: 0.8120 - accuracy: 0.7008 - val_loss: 1.0309 - val_accuracy: 0.6236\n",
            "Epoch 84/200\n",
            "451/451 - 18s - loss: 0.8044 - accuracy: 0.7006 - val_loss: 1.0324 - val_accuracy: 0.6224\n",
            "Epoch 85/200\n",
            "451/451 - 18s - loss: 0.7974 - accuracy: 0.7013 - val_loss: 1.0468 - val_accuracy: 0.6185\n",
            "Epoch 86/200\n",
            "451/451 - 18s - loss: 0.7999 - accuracy: 0.7030 - val_loss: 1.0332 - val_accuracy: 0.6223\n",
            "Epoch 87/200\n",
            "451/451 - 18s - loss: 0.7915 - accuracy: 0.7063 - val_loss: 1.0200 - val_accuracy: 0.6257\n",
            "Epoch 88/200\n",
            "451/451 - 18s - loss: 0.7918 - accuracy: 0.7028 - val_loss: 1.0243 - val_accuracy: 0.6283\n",
            "Epoch 89/200\n",
            "451/451 - 18s - loss: 0.7820 - accuracy: 0.7091 - val_loss: 1.0395 - val_accuracy: 0.6322\n",
            "Epoch 90/200\n",
            "451/451 - 18s - loss: 0.7719 - accuracy: 0.7162 - val_loss: 1.0318 - val_accuracy: 0.6219\n",
            "Epoch 91/200\n",
            "451/451 - 18s - loss: 0.7755 - accuracy: 0.7147 - val_loss: 1.0195 - val_accuracy: 0.6297\n",
            "Epoch 92/200\n",
            "451/451 - 18s - loss: 0.7700 - accuracy: 0.7149 - val_loss: 1.0354 - val_accuracy: 0.6290\n",
            "Epoch 93/200\n",
            "451/451 - 18s - loss: 0.7632 - accuracy: 0.7179 - val_loss: 1.0311 - val_accuracy: 0.6253\n",
            "Epoch 94/200\n",
            "451/451 - 18s - loss: 0.7569 - accuracy: 0.7206 - val_loss: 1.0397 - val_accuracy: 0.6277\n",
            "Epoch 95/200\n",
            "451/451 - 18s - loss: 0.7540 - accuracy: 0.7206 - val_loss: 1.0264 - val_accuracy: 0.6246\n",
            "Epoch 96/200\n",
            "451/451 - 18s - loss: 0.7442 - accuracy: 0.7220 - val_loss: 1.0248 - val_accuracy: 0.6317\n",
            "Epoch 97/200\n",
            "451/451 - 18s - loss: 0.7414 - accuracy: 0.7274 - val_loss: 1.0325 - val_accuracy: 0.6294\n",
            "Epoch 98/200\n",
            "451/451 - 18s - loss: 0.7385 - accuracy: 0.7274 - val_loss: 1.0324 - val_accuracy: 0.6283\n",
            "Epoch 99/200\n",
            "451/451 - 18s - loss: 0.7354 - accuracy: 0.7269 - val_loss: 1.0413 - val_accuracy: 0.6291\n",
            "Epoch 100/200\n",
            "451/451 - 18s - loss: 0.7346 - accuracy: 0.7268 - val_loss: 1.0388 - val_accuracy: 0.6297\n",
            "Epoch 101/200\n",
            "451/451 - 18s - loss: 0.7234 - accuracy: 0.7294 - val_loss: 1.0425 - val_accuracy: 0.6253\n",
            "Epoch 102/200\n",
            "451/451 - 18s - loss: 0.7232 - accuracy: 0.7321 - val_loss: 1.0308 - val_accuracy: 0.6303\n",
            "Epoch 103/200\n",
            "451/451 - 18s - loss: 0.7176 - accuracy: 0.7352 - val_loss: 1.0370 - val_accuracy: 0.6264\n",
            "Epoch 104/200\n",
            "451/451 - 18s - loss: 0.7159 - accuracy: 0.7364 - val_loss: 1.0224 - val_accuracy: 0.6399\n",
            "Epoch 105/200\n",
            "451/451 - 18s - loss: 0.7043 - accuracy: 0.7395 - val_loss: 1.0411 - val_accuracy: 0.6355\n",
            "Epoch 106/200\n",
            "451/451 - 18s - loss: 0.7000 - accuracy: 0.7405 - val_loss: 1.0363 - val_accuracy: 0.6371\n",
            "Epoch 107/200\n",
            "451/451 - 18s - loss: 0.7047 - accuracy: 0.7381 - val_loss: 1.0348 - val_accuracy: 0.6347\n",
            "Epoch 108/200\n",
            "451/451 - 18s - loss: 0.6918 - accuracy: 0.7431 - val_loss: 1.0377 - val_accuracy: 0.6314\n",
            "Epoch 109/200\n",
            "451/451 - 18s - loss: 0.6940 - accuracy: 0.7426 - val_loss: 1.0304 - val_accuracy: 0.6327\n",
            "Epoch 110/200\n",
            "451/451 - 18s - loss: 0.6849 - accuracy: 0.7459 - val_loss: 1.0268 - val_accuracy: 0.6347\n",
            "Epoch 111/200\n",
            "451/451 - 18s - loss: 0.6860 - accuracy: 0.7460 - val_loss: 1.0505 - val_accuracy: 0.6339\n",
            "Epoch 112/200\n",
            "451/451 - 18s - loss: 0.6743 - accuracy: 0.7516 - val_loss: 1.0393 - val_accuracy: 0.6352\n",
            "Epoch 113/200\n",
            "451/451 - 18s - loss: 0.6769 - accuracy: 0.7508 - val_loss: 1.0424 - val_accuracy: 0.6344\n",
            "Epoch 114/200\n",
            "451/451 - 18s - loss: 0.6702 - accuracy: 0.7543 - val_loss: 1.0353 - val_accuracy: 0.6267\n",
            "Epoch 115/200\n",
            "451/451 - 18s - loss: 0.6610 - accuracy: 0.7571 - val_loss: 1.0601 - val_accuracy: 0.6315\n",
            "Epoch 116/200\n",
            "451/451 - 18s - loss: 0.6676 - accuracy: 0.7531 - val_loss: 1.0510 - val_accuracy: 0.6339\n",
            "Epoch 117/200\n",
            "451/451 - 18s - loss: 0.6577 - accuracy: 0.7586 - val_loss: 1.0438 - val_accuracy: 0.6420\n",
            "Epoch 118/200\n",
            "451/451 - 18s - loss: 0.6551 - accuracy: 0.7590 - val_loss: 1.0430 - val_accuracy: 0.6403\n",
            "Epoch 119/200\n",
            "451/451 - 18s - loss: 0.6528 - accuracy: 0.7596 - val_loss: 1.0396 - val_accuracy: 0.6297\n",
            "Epoch 120/200\n",
            "451/451 - 18s - loss: 0.6481 - accuracy: 0.7609 - val_loss: 1.0516 - val_accuracy: 0.6384\n",
            "Epoch 121/200\n",
            "451/451 - 18s - loss: 0.6396 - accuracy: 0.7646 - val_loss: 1.0612 - val_accuracy: 0.6304\n",
            "Epoch 122/200\n",
            "451/451 - 18s - loss: 0.6397 - accuracy: 0.7634 - val_loss: 1.0442 - val_accuracy: 0.6375\n",
            "Epoch 123/200\n",
            "451/451 - 18s - loss: 0.6371 - accuracy: 0.7651 - val_loss: 1.0419 - val_accuracy: 0.6379\n",
            "Epoch 124/200\n",
            "451/451 - 19s - loss: 0.6268 - accuracy: 0.7681 - val_loss: 1.0565 - val_accuracy: 0.6330\n",
            "Epoch 125/200\n",
            "451/451 - 18s - loss: 0.6243 - accuracy: 0.7696 - val_loss: 1.0406 - val_accuracy: 0.6376\n",
            "Epoch 126/200\n",
            "451/451 - 18s - loss: 0.6188 - accuracy: 0.7718 - val_loss: 1.0529 - val_accuracy: 0.6338\n",
            "Epoch 127/200\n",
            "451/451 - 18s - loss: 0.6194 - accuracy: 0.7719 - val_loss: 1.0652 - val_accuracy: 0.6354\n",
            "Epoch 128/200\n",
            "451/451 - 18s - loss: 0.6134 - accuracy: 0.7751 - val_loss: 1.0509 - val_accuracy: 0.6347\n",
            "Epoch 129/200\n",
            "451/451 - 18s - loss: 0.6069 - accuracy: 0.7764 - val_loss: 1.0774 - val_accuracy: 0.6308\n",
            "Epoch 130/200\n",
            "451/451 - 18s - loss: 0.6058 - accuracy: 0.7762 - val_loss: 1.0551 - val_accuracy: 0.6372\n",
            "Epoch 131/200\n",
            "451/451 - 18s - loss: 0.6003 - accuracy: 0.7812 - val_loss: 1.0646 - val_accuracy: 0.6391\n",
            "Epoch 132/200\n",
            "451/451 - 18s - loss: 0.5976 - accuracy: 0.7803 - val_loss: 1.0670 - val_accuracy: 0.6378\n",
            "Epoch 133/200\n",
            "451/451 - 18s - loss: 0.5895 - accuracy: 0.7828 - val_loss: 1.0604 - val_accuracy: 0.6354\n",
            "Epoch 134/200\n",
            "451/451 - 18s - loss: 0.5901 - accuracy: 0.7825 - val_loss: 1.0632 - val_accuracy: 0.6324\n",
            "Epoch 135/200\n",
            "451/451 - 18s - loss: 0.5806 - accuracy: 0.7868 - val_loss: 1.0559 - val_accuracy: 0.6391\n",
            "Epoch 136/200\n",
            "451/451 - 18s - loss: 0.5816 - accuracy: 0.7869 - val_loss: 1.0727 - val_accuracy: 0.6318\n",
            "Epoch 137/200\n",
            "451/451 - 18s - loss: 0.5790 - accuracy: 0.7877 - val_loss: 1.0612 - val_accuracy: 0.6385\n",
            "Epoch 138/200\n",
            "451/451 - 18s - loss: 0.5777 - accuracy: 0.7883 - val_loss: 1.0747 - val_accuracy: 0.6368\n",
            "Epoch 139/200\n",
            "451/451 - 18s - loss: 0.5719 - accuracy: 0.7902 - val_loss: 1.1072 - val_accuracy: 0.6303\n",
            "Epoch 140/200\n",
            "451/451 - 18s - loss: 0.5719 - accuracy: 0.7896 - val_loss: 1.0576 - val_accuracy: 0.6379\n",
            "Epoch 141/200\n",
            "451/451 - 18s - loss: 0.5632 - accuracy: 0.7921 - val_loss: 1.1036 - val_accuracy: 0.6388\n",
            "Epoch 142/200\n",
            "451/451 - 18s - loss: 0.5622 - accuracy: 0.7953 - val_loss: 1.0768 - val_accuracy: 0.6324\n",
            "Epoch 143/200\n",
            "451/451 - 18s - loss: 0.5541 - accuracy: 0.7984 - val_loss: 1.0617 - val_accuracy: 0.6338\n",
            "Epoch 144/200\n",
            "451/451 - 18s - loss: 0.5500 - accuracy: 0.7973 - val_loss: 1.0830 - val_accuracy: 0.6378\n",
            "Epoch 145/200\n",
            "451/451 - 18s - loss: 0.5559 - accuracy: 0.7984 - val_loss: 1.0837 - val_accuracy: 0.6313\n",
            "Epoch 146/200\n",
            "451/451 - 18s - loss: 0.5504 - accuracy: 0.7980 - val_loss: 1.0718 - val_accuracy: 0.6332\n",
            "Epoch 147/200\n",
            "451/451 - 18s - loss: 0.5483 - accuracy: 0.7995 - val_loss: 1.0743 - val_accuracy: 0.6369\n",
            "Epoch 148/200\n",
            "451/451 - 18s - loss: 0.5340 - accuracy: 0.8032 - val_loss: 1.0889 - val_accuracy: 0.6382\n",
            "Epoch 149/200\n",
            "451/451 - 18s - loss: 0.5334 - accuracy: 0.8049 - val_loss: 1.1042 - val_accuracy: 0.6378\n",
            "Epoch 150/200\n",
            "451/451 - 18s - loss: 0.5297 - accuracy: 0.8051 - val_loss: 1.1154 - val_accuracy: 0.6355\n",
            "Epoch 151/200\n",
            "451/451 - 18s - loss: 0.5383 - accuracy: 0.8015 - val_loss: 1.1066 - val_accuracy: 0.6393\n",
            "Epoch 152/200\n",
            "451/451 - 18s - loss: 0.5269 - accuracy: 0.8064 - val_loss: 1.0970 - val_accuracy: 0.6349\n",
            "Epoch 153/200\n",
            "451/451 - 18s - loss: 0.5149 - accuracy: 0.8114 - val_loss: 1.1246 - val_accuracy: 0.6366\n",
            "Epoch 154/200\n",
            "451/451 - 18s - loss: 0.5182 - accuracy: 0.8081 - val_loss: 1.0899 - val_accuracy: 0.6388\n",
            "Epoch 155/200\n",
            "451/451 - 18s - loss: 0.5202 - accuracy: 0.8103 - val_loss: 1.1019 - val_accuracy: 0.6315\n",
            "Epoch 156/200\n",
            "451/451 - 18s - loss: 0.5178 - accuracy: 0.8102 - val_loss: 1.0858 - val_accuracy: 0.6357\n",
            "Epoch 157/200\n",
            "451/451 - 18s - loss: 0.5045 - accuracy: 0.8148 - val_loss: 1.1440 - val_accuracy: 0.6368\n",
            "Epoch 158/200\n",
            "451/451 - 18s - loss: 0.5114 - accuracy: 0.8145 - val_loss: 1.1076 - val_accuracy: 0.6342\n",
            "Epoch 159/200\n",
            "451/451 - 18s - loss: 0.5102 - accuracy: 0.8151 - val_loss: 1.0979 - val_accuracy: 0.6345\n",
            "Epoch 160/200\n",
            "451/451 - 18s - loss: 0.4967 - accuracy: 0.8150 - val_loss: 1.0984 - val_accuracy: 0.6411\n",
            "Epoch 161/200\n",
            "451/451 - 18s - loss: 0.5072 - accuracy: 0.8153 - val_loss: 1.0937 - val_accuracy: 0.6371\n",
            "Epoch 162/200\n",
            "451/451 - 18s - loss: 0.4925 - accuracy: 0.8195 - val_loss: 1.1156 - val_accuracy: 0.6396\n",
            "Epoch 163/200\n",
            "451/451 - 18s - loss: 0.4935 - accuracy: 0.8194 - val_loss: 1.1344 - val_accuracy: 0.6393\n",
            "Epoch 164/200\n",
            "451/451 - 18s - loss: 0.4875 - accuracy: 0.8217 - val_loss: 1.0961 - val_accuracy: 0.6416\n",
            "Epoch 165/200\n",
            "451/451 - 18s - loss: 0.4817 - accuracy: 0.8208 - val_loss: 1.1464 - val_accuracy: 0.6412\n",
            "Epoch 166/200\n",
            "451/451 - 18s - loss: 0.4907 - accuracy: 0.8216 - val_loss: 1.1081 - val_accuracy: 0.6366\n",
            "Epoch 167/200\n",
            "451/451 - 18s - loss: 0.4823 - accuracy: 0.8231 - val_loss: 1.1427 - val_accuracy: 0.6274\n",
            "Epoch 168/200\n",
            "451/451 - 18s - loss: 0.4795 - accuracy: 0.8241 - val_loss: 1.1288 - val_accuracy: 0.6391\n",
            "Epoch 169/200\n",
            "451/451 - 18s - loss: 0.4726 - accuracy: 0.8269 - val_loss: 1.1185 - val_accuracy: 0.6399\n",
            "Epoch 170/200\n",
            "451/451 - 18s - loss: 0.4738 - accuracy: 0.8277 - val_loss: 1.1297 - val_accuracy: 0.6393\n",
            "Epoch 171/200\n",
            "451/451 - 18s - loss: 0.4682 - accuracy: 0.8300 - val_loss: 1.1291 - val_accuracy: 0.6335\n",
            "Epoch 172/200\n",
            "451/451 - 18s - loss: 0.4618 - accuracy: 0.8336 - val_loss: 1.1236 - val_accuracy: 0.6361\n",
            "Epoch 173/200\n",
            "451/451 - 18s - loss: 0.4658 - accuracy: 0.8280 - val_loss: 1.1377 - val_accuracy: 0.6386\n",
            "Epoch 174/200\n",
            "451/451 - 18s - loss: 0.4607 - accuracy: 0.8338 - val_loss: 1.1185 - val_accuracy: 0.6369\n",
            "Epoch 175/200\n",
            "451/451 - 18s - loss: 0.4604 - accuracy: 0.8329 - val_loss: 1.1185 - val_accuracy: 0.6420\n",
            "Epoch 176/200\n",
            "451/451 - 18s - loss: 0.4614 - accuracy: 0.8275 - val_loss: 1.1333 - val_accuracy: 0.6382\n",
            "Epoch 177/200\n",
            "451/451 - 18s - loss: 0.4564 - accuracy: 0.8344 - val_loss: 1.1314 - val_accuracy: 0.6381\n",
            "Epoch 178/200\n",
            "451/451 - 18s - loss: 0.4508 - accuracy: 0.8351 - val_loss: 1.1405 - val_accuracy: 0.6372\n",
            "Epoch 179/200\n",
            "451/451 - 18s - loss: 0.4482 - accuracy: 0.8355 - val_loss: 1.1450 - val_accuracy: 0.6408\n",
            "Epoch 180/200\n",
            "451/451 - 18s - loss: 0.4499 - accuracy: 0.8335 - val_loss: 1.1467 - val_accuracy: 0.6381\n",
            "Epoch 181/200\n",
            "451/451 - 18s - loss: 0.4495 - accuracy: 0.8369 - val_loss: 1.1411 - val_accuracy: 0.6442\n",
            "Epoch 182/200\n",
            "451/451 - 18s - loss: 0.4487 - accuracy: 0.8357 - val_loss: 1.1206 - val_accuracy: 0.6459\n",
            "Epoch 183/200\n",
            "451/451 - 18s - loss: 0.4403 - accuracy: 0.8381 - val_loss: 1.1486 - val_accuracy: 0.6337\n",
            "Epoch 184/200\n",
            "451/451 - 18s - loss: 0.4393 - accuracy: 0.8374 - val_loss: 1.1408 - val_accuracy: 0.6406\n",
            "Epoch 185/200\n",
            "451/451 - 18s - loss: 0.4395 - accuracy: 0.8409 - val_loss: 1.1578 - val_accuracy: 0.6399\n",
            "Epoch 186/200\n",
            "451/451 - 18s - loss: 0.4348 - accuracy: 0.8419 - val_loss: 1.1627 - val_accuracy: 0.6338\n",
            "Epoch 187/200\n",
            "451/451 - 18s - loss: 0.4329 - accuracy: 0.8433 - val_loss: 1.1728 - val_accuracy: 0.6419\n",
            "Epoch 188/200\n",
            "451/451 - 18s - loss: 0.4306 - accuracy: 0.8416 - val_loss: 1.1332 - val_accuracy: 0.6445\n",
            "Epoch 189/200\n",
            "451/451 - 18s - loss: 0.4298 - accuracy: 0.8470 - val_loss: 1.1569 - val_accuracy: 0.6384\n",
            "Epoch 190/200\n",
            "451/451 - 18s - loss: 0.4200 - accuracy: 0.8462 - val_loss: 1.1604 - val_accuracy: 0.6413\n",
            "Epoch 191/200\n",
            "451/451 - 18s - loss: 0.4205 - accuracy: 0.8463 - val_loss: 1.1537 - val_accuracy: 0.6443\n",
            "Epoch 192/200\n",
            "451/451 - 18s - loss: 0.4264 - accuracy: 0.8442 - val_loss: 1.1629 - val_accuracy: 0.6362\n",
            "Epoch 193/200\n",
            "451/451 - 18s - loss: 0.4238 - accuracy: 0.8453 - val_loss: 1.1563 - val_accuracy: 0.6372\n",
            "Epoch 194/200\n",
            "451/451 - 18s - loss: 0.4190 - accuracy: 0.8473 - val_loss: 1.1610 - val_accuracy: 0.6386\n",
            "Epoch 195/200\n",
            "451/451 - 18s - loss: 0.4188 - accuracy: 0.8466 - val_loss: 1.1744 - val_accuracy: 0.6450\n",
            "Epoch 196/200\n",
            "451/451 - 18s - loss: 0.4184 - accuracy: 0.8498 - val_loss: 1.1765 - val_accuracy: 0.6335\n",
            "Epoch 197/200\n",
            "451/451 - 18s - loss: 0.4057 - accuracy: 0.8517 - val_loss: 1.1949 - val_accuracy: 0.6445\n",
            "Epoch 198/200\n",
            "451/451 - 18s - loss: 0.4000 - accuracy: 0.8542 - val_loss: 1.1883 - val_accuracy: 0.6347\n",
            "Epoch 199/200\n",
            "451/451 - 18s - loss: 0.4099 - accuracy: 0.8517 - val_loss: 1.1698 - val_accuracy: 0.6428\n",
            "Epoch 200/200\n",
            "451/451 - 18s - loss: 0.4067 - accuracy: 0.8512 - val_loss: 1.1562 - val_accuracy: 0.6430\n"
          ],
          "name": "stdout"
        }
      ]
    },
    {
      "cell_type": "code",
      "metadata": {
        "id": "YXaCGjtePRcR",
        "colab": {
          "base_uri": "https://localhost:8080/",
          "height": 573
        },
        "outputId": "734bf17f-c9fe-4b70-ca33-dc26dcb0057e"
      },
      "source": [
        "#Accuracy Plot\n",
        "plt.plot(trainmodel.history['accuracy'], label='Train Accuracy')\n",
        "plt.plot(trainmodel.history['val_accuracy'], label='Validation Accuracy')\n",
        "plt.title('Accuracy Plot')\n",
        "plt.ylabel('Accuracy Value')\n",
        "plt.xlabel('Epoch') \n",
        "plt.legend(loc=\"lower right\")\n",
        "plt.show()\n",
        "#Loss Plot\n",
        "plt.plot(trainmodel.history['loss'], label='Train Loss')\n",
        "plt.plot(trainmodel.history['val_loss'], label='Validation Loss')\n",
        "plt.title('Loss Plot')\n",
        "plt.ylabel('Loss Value')\n",
        "plt.xlabel('Epoch')\n",
        "plt.legend(loc=\"upper right\")\n",
        "plt.show()"
      ],
      "execution_count": 16,
      "outputs": [
        {
          "output_type": "display_data",
          "data": {
            "image/png": "[encoded data removed]",
            "text/plain": [
              "<Figure size 432x288 with 1 Axes>"
            ]
          },
          "metadata": {
            "tags": [],
            "needs_background": "light"
          }
        },
        {
          "output_type": "display_data",
          "data": {
            "image/png": "[encoded data removed]",
            "text/plain": [
              "<Figure size 432x288 with 1 Axes>"
            ]
          },
          "metadata": {
            "tags": [],
            "needs_background": "light"
          }
        }
      ]
    },
    {
      "cell_type": "code",
      "metadata": {
        "id": "k32NUDGqPDQd",
        "colab": {
          "base_uri": "https://localhost:8080/"
        },
        "outputId": "deba4976-2d35-41ac-f5de-e4a13146d2fe"
      },
      "source": [
        "#Convert to tf lite\n",
        "converter = tf.lite.TFLiteConverter.from_keras_model(model)\n",
        "tflite_model = converter.convert()\n",
        "\n",
        "#save \n",
        "with tf.io.gfile.GFile('model.tflite', 'wb') as f:\n",
        "  f.write(tflite_model)"
      ],
      "execution_count": 17,
      "outputs": [
        {
          "output_type": "stream",
          "text": [
            "INFO:tensorflow:Assets written to: /tmp/tmpktni2p1d/assets\n"
          ],
          "name": "stdout"
        }
      ]
    }
  ]
}